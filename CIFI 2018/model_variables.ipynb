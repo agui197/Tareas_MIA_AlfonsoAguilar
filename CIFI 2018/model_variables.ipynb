{
 "cells": [
  {
   "cell_type": "markdown",
   "metadata": {},
   "source": [
    "# Bases de datos"
   ]
  },
  {
   "cell_type": "code",
   "execution_count": 1,
   "metadata": {},
   "outputs": [],
   "source": [
    "import pandas as pd\n",
    "#import pandas_datareader.data as web\n",
    "import numpy as np\n",
    "import datetime\n",
    "import matplotlib.pyplot as plt\n",
    "import scipy.stats as st\n",
    "import openpyxl\n",
    "import pandas.io.formats.excel \n",
    "import time\n",
    "%matplotlib inline\n",
    "#pd.set_option('display.notebook_repr_html', True)\n",
    "#pd.set_option('display.max_columns', 11)\n",
    "#pd.set_option('display.max_rows', 10)\n",
    "#pd.set_option('display.width', 78)\n",
    "pd.set_option('precision', 3)\n",
    "pd.options.display.float_format = '{:.5f}'.format\n"
   ]
  },
  {
   "cell_type": "code",
   "execution_count": 2,
   "metadata": {},
   "outputs": [],
   "source": [
    "data=pd.read_excel('annual_generation_state.xls','TOTALES',index_col=0)\n",
    "data=data.loc[data['GENERATION (Megawatthours)']>0,:]"
   ]
  },
  {
   "cell_type": "code",
   "execution_count": 3,
   "metadata": {},
   "outputs": [],
   "source": [
    "years=np.unique(data.index)"
   ]
  },
  {
   "cell_type": "code",
   "execution_count": 4,
   "metadata": {},
   "outputs": [
    {
     "data": {
      "text/plain": [
       "array(['AK', 'AL', 'AR', 'AZ', 'CA', 'CO', 'CT', 'DC', 'DE', 'FL', 'GA',\n",
       "       'HI', 'IA', 'ID', 'IL', 'IN', 'KS', 'KY', 'LA', 'MA', 'MD', 'ME',\n",
       "       'MI', 'MN', 'MO', 'MS', 'MT', 'NC', 'ND', 'NE', 'NH', 'NJ', 'NM',\n",
       "       'NV', 'NY', 'OH', 'OK', 'OR', 'PA', 'RI', 'SC', 'SD', 'TN', 'TX',\n",
       "       'US-TOTAL', 'US-Total', 'UT', 'VA', 'VT', 'WA', 'WI', 'WV', 'WY'],\n",
       "      dtype=object)"
      ]
     },
     "execution_count": 4,
     "metadata": {},
     "output_type": "execute_result"
    }
   ],
   "source": [
    "states=np.unique(data['STATE'])\n",
    "states"
   ]
  },
  {
   "cell_type": "code",
   "execution_count": 5,
   "metadata": {},
   "outputs": [
    {
     "data": {
      "text/plain": [
       "array(['Coal', 'Geothermal', 'Hydroelectric Conventional', 'Natural Gas',\n",
       "       'Nuclear', 'Other', 'Other Biomass', 'Other Gases', 'Petroleum',\n",
       "       'Pumped Storage', 'Solar Thermal and Photovoltaic', 'Wind',\n",
       "       'Wood and Wood Derived Fuels'], dtype=object)"
      ]
     },
     "execution_count": 5,
     "metadata": {},
     "output_type": "execute_result"
    }
   ],
   "source": [
    "energies=np.unique(data['ENERGY SOURCE'])\n",
    "energies"
   ]
  },
  {
   "cell_type": "code",
   "execution_count": 6,
   "metadata": {},
   "outputs": [],
   "source": [
    "total_by_states=list(map(lambda s:list(map(lambda y:sum(data.loc[data['STATE']==states[s],'GENERATION (Megawatthours)'].loc[data.loc[data['STATE']==states[s],:].index==years[y]]),range(len(years)))),range(len(states))))"
   ]
  },
  {
   "cell_type": "code",
   "execution_count": 7,
   "metadata": {},
   "outputs": [],
   "source": [
    "data_by_states=list(map(lambda e:data.loc[data['STATE']==states[e],:],range(len(states))))"
   ]
  },
  {
   "cell_type": "code",
   "execution_count": 8,
   "metadata": {},
   "outputs": [],
   "source": [
    "data_by_states=list(map(lambda s:list(map(lambda y:(data.loc[data['STATE']==states[s],:].loc[data.loc[data['STATE']==states[s],:].index==years[y]]),range(len(years)))),range(len(states))))"
   ]
  },
  {
   "cell_type": "code",
   "execution_count": 9,
   "metadata": {},
   "outputs": [],
   "source": [
    "#state,year\n",
    "proportions_by_states=list(map(lambda s:list(map(lambda y:pd.concat([data_by_states[s][y],data_by_states[s][y]['GENERATION (Megawatthours)']/total_by_states[s][y]],axis=1),range(len(years)))),range(len(states))))"
   ]
  },
  {
   "cell_type": "code",
   "execution_count": 10,
   "metadata": {},
   "outputs": [],
   "source": [
    "#state,type of energy\n",
    "df=list(map(lambda s:list(map(lambda e:pd.DataFrame(np.reshape((np.column_stack(list(map(lambda y:pd.DataFrame(np.ones([1,4])*.0001) if (proportions_by_states[s][y].loc[proportions_by_states[s][y]['ENERGY SOURCE']==energies[e],:]).empty else proportions_by_states[s][y].loc[proportions_by_states[s][y]['ENERGY SOURCE']==energies[e],:],range(len(years)))))),(28,4))),range(len(energies)))),range(len(states))))"
   ]
  },
  {
   "cell_type": "code",
   "execution_count": 11,
   "metadata": {},
   "outputs": [],
   "source": [
    "#state,type of energy\n",
    "df_with_ret=list(map(lambda s:list(map(lambda e:pd.concat([df[s][e],(df[s][e][3]/df[s][e][3].shift(1)-1)*100],axis=1),range(len(energies)))),range(len(states))))"
   ]
  },
  {
   "cell_type": "code",
   "execution_count": 12,
   "metadata": {},
   "outputs": [],
   "source": [
    "df_with_rets=list(map(lambda s:list(map(lambda e:pd.concat([df_with_ret[s][e],(df[s][e][2]/df[s][e][2].shift(1)-1)*100],axis=1),range(len(energies)))),range(len(states))))"
   ]
  },
  {
   "cell_type": "code",
   "execution_count": 77,
   "metadata": {},
   "outputs": [],
   "source": [
    "df_with_rets_dates=list(map(lambda s:list(map(lambda e:df_with_rets[s][e].set_index(years),range(len(energies)))),range(len(states))))"
   ]
  },
  {
   "cell_type": "code",
   "execution_count": 80,
   "metadata": {},
   "outputs": [
    {
     "name": "stderr",
     "output_type": "stream",
     "text": [
      "C:\\ProgramData\\Anaconda3\\lib\\site-packages\\ipykernel_launcher.py:2: DeprecationWarning: Call to deprecated function get_sheet_by_name (Use wb[sheetname]).\n",
      "  \n"
     ]
    }
   ],
   "source": [
    "doc=openpyxl.load_workbook('database.xlsx')\n",
    "hoja=doc.get_sheet_by_name('Hoja1')\n",
    "list(map(lambda s:list(map(lambda e:list(map(lambda f: hoja.append([\"\"]) if pd.DataFrame.equals(df_with_rets_dates[s][e],df_with_rets_dates[0][5]) else hoja.append([df_with_rets_dates[s][e].index[f],df_with_rets_dates[s][e].iloc[f,0],df_with_rets_dates[s][e].iloc[f,1],df_with_rets_dates[s][e].iloc[f,2],df_with_rets_dates[s][e].iloc[f,3],df_with_rets_dates[s][e].iloc[f,4],df_with_rets_dates[s][e].iloc[f,5]]),range(28))),range(len(energies)))),range(len(states))))\n",
    "doc.save('database.xlsx')"
   ]
  },
  {
   "cell_type": "code",
   "execution_count": null,
   "metadata": {},
   "outputs": [],
   "source": []
  }
 ],
 "metadata": {
  "kernelspec": {
   "display_name": "Python 3",
   "language": "python",
   "name": "python3"
  },
  "language_info": {
   "codemirror_mode": {
    "name": "ipython",
    "version": 3
   },
   "file_extension": ".py",
   "mimetype": "text/x-python",
   "name": "python",
   "nbconvert_exporter": "python",
   "pygments_lexer": "ipython3",
   "version": "3.6.5"
  }
 },
 "nbformat": 4,
 "nbformat_minor": 2
}

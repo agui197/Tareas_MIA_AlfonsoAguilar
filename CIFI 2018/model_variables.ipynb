{
 "cells": [
  {
   "cell_type": "markdown",
   "metadata": {},
   "source": [
    "# Bases de datos"
   ]
  },
  {
   "cell_type": "code",
   "execution_count": 141,
   "metadata": {},
   "outputs": [],
   "source": [
    "import pandas as pd\n",
    "#import pandas_datareader.data as web\n",
    "import numpy as np\n",
    "import datetime\n",
    "import matplotlib.pyplot as plt\n",
    "import scipy.stats as st\n",
    "%matplotlib inline\n",
    "#pd.set_option('display.notebook_repr_html', True)\n",
    "#pd.set_option('display.max_columns', 11)\n",
    "#pd.set_option('display.max_rows', 10)\n",
    "#pd.set_option('display.width', 78)\n",
    "pd.set_option('precision', 3)\n",
    "pd.options.display.float_format = '{:.2f}'.format\n"
   ]
  },
  {
   "cell_type": "code",
   "execution_count": 124,
   "metadata": {},
   "outputs": [],
   "source": [
    "data=pd.read_excel('annual_generation_state.xls','TOTALES',index_col=0)"
   ]
  },
  {
   "cell_type": "code",
   "execution_count": 125,
   "metadata": {},
   "outputs": [
    {
     "data": {
      "text/plain": [
       "array([1990, 1991, 1992, 1993, 1994, 1995, 1996, 1997, 1998, 1999, 2000,\n",
       "       2001, 2002, 2003, 2004, 2005, 2006, 2007, 2008, 2009, 2010, 2011,\n",
       "       2012, 2013, 2014, 2015, 2016, 2017], dtype=int64)"
      ]
     },
     "execution_count": 125,
     "metadata": {},
     "output_type": "execute_result"
    }
   ],
   "source": [
    "years=np.unique(data.index)\n",
    "years"
   ]
  },
  {
   "cell_type": "code",
   "execution_count": 126,
   "metadata": {},
   "outputs": [],
   "source": [
    "states=np.unique(data['STATE'])"
   ]
  },
  {
   "cell_type": "code",
   "execution_count": 127,
   "metadata": {},
   "outputs": [],
   "source": [
    "energies=np.unique(data['ENERGY SOURCE'])"
   ]
  },
  {
   "cell_type": "code",
   "execution_count": 128,
   "metadata": {},
   "outputs": [],
   "source": [
    "total_by_states=list(map(lambda s:list(map(lambda y:sum(data.loc[data['STATE']==states[s],'GENERATION (Megawatthours)'].loc[data.loc[data['STATE']==states[s],:].index==years[y]]),range(len(years)))),range(len(states))))"
   ]
  },
  {
   "cell_type": "code",
   "execution_count": 129,
   "metadata": {},
   "outputs": [],
   "source": [
    "data_by_states=list(map(lambda e:data.loc[data['STATE']==states[e],:],range(len(states))))"
   ]
  },
  {
   "cell_type": "code",
   "execution_count": 130,
   "metadata": {},
   "outputs": [
    {
     "data": {
      "text/plain": [
       "array(['Coal', 'Geothermal', 'Hydroelectric Conventional', 'Natural Gas',\n",
       "       'Nuclear', 'Other', 'Other Biomass', 'Other Gases', 'Petroleum',\n",
       "       'Pumped Storage', 'Solar Thermal and Photovoltaic', 'Wind',\n",
       "       'Wood and Wood Derived Fuels'], dtype=object)"
      ]
     },
     "execution_count": 130,
     "metadata": {},
     "output_type": "execute_result"
    }
   ],
   "source": [
    "energies"
   ]
  },
  {
   "cell_type": "code",
   "execution_count": 131,
   "metadata": {},
   "outputs": [],
   "source": [
    "data_by_states=list(map(lambda s:list(map(lambda y:(data.loc[data['STATE']==states[s],:].loc[data.loc[data['STATE']==states[s],:].index==years[y]]),range(len(years)))),range(len(states))))"
   ]
  },
  {
   "cell_type": "code",
   "execution_count": 133,
   "metadata": {},
   "outputs": [],
   "source": [
    "#state,year\n",
    "proportions_by_states=list(map(lambda s:list(map(lambda y:pd.concat([data_by_states[s][y],data_by_states[s][y]['GENERATION (Megawatthours)']/total_by_states[s][y]],axis=1),range(len(years)))),range(1,len(states)-1)))"
   ]
  },
  {
   "cell_type": "code",
   "execution_count": 118,
   "metadata": {},
   "outputs": [
    {
     "data": {
      "text/plain": [
       "YEAR\n",
       "1990    0.091\n",
       "1990    0.174\n",
       "1990    0.619\n",
       "1990    0.089\n",
       "1990    0.000\n",
       "1990    0.027\n",
       "Name: GENERATION (Megawatthours), dtype: float64"
      ]
     },
     "execution_count": 118,
     "metadata": {},
     "output_type": "execute_result"
    }
   ],
   "source": [
    "proportions_by_states[0][]"
   ]
  },
  {
   "cell_type": "code",
   "execution_count": 138,
   "metadata": {},
   "outputs": [
    {
     "data": {
      "text/html": [
       "<div>\n",
       "<style scoped>\n",
       "    .dataframe tbody tr th:only-of-type {\n",
       "        vertical-align: middle;\n",
       "    }\n",
       "\n",
       "    .dataframe tbody tr th {\n",
       "        vertical-align: top;\n",
       "    }\n",
       "\n",
       "    .dataframe thead th {\n",
       "        text-align: right;\n",
       "    }\n",
       "</style>\n",
       "<table border=\"1\" class=\"dataframe\">\n",
       "  <thead>\n",
       "    <tr style=\"text-align: right;\">\n",
       "      <th></th>\n",
       "      <th>STATE</th>\n",
       "      <th>ENERGY SOURCE</th>\n",
       "      <th>GENERATION (Megawatthours)</th>\n",
       "      <th>GENERATION (Megawatthours)</th>\n",
       "    </tr>\n",
       "    <tr>\n",
       "      <th>YEAR</th>\n",
       "      <th></th>\n",
       "      <th></th>\n",
       "      <th></th>\n",
       "      <th></th>\n",
       "    </tr>\n",
       "  </thead>\n",
       "  <tbody>\n",
       "    <tr>\n",
       "      <th>1991</th>\n",
       "      <td>AL</td>\n",
       "      <td>Coal</td>\n",
       "      <td>5.822e+07</td>\n",
       "      <td>6.558e-01</td>\n",
       "    </tr>\n",
       "    <tr>\n",
       "      <th>1991</th>\n",
       "      <td>AL</td>\n",
       "      <td>Hydroelectric Conventional</td>\n",
       "      <td>1.076e+07</td>\n",
       "      <td>1.212e-01</td>\n",
       "    </tr>\n",
       "    <tr>\n",
       "      <th>1991</th>\n",
       "      <td>AL</td>\n",
       "      <td>Natural Gas</td>\n",
       "      <td>1.222e+06</td>\n",
       "      <td>1.377e-02</td>\n",
       "    </tr>\n",
       "    <tr>\n",
       "      <th>1991</th>\n",
       "      <td>AL</td>\n",
       "      <td>Nuclear</td>\n",
       "      <td>1.587e+07</td>\n",
       "      <td>1.788e-01</td>\n",
       "    </tr>\n",
       "    <tr>\n",
       "      <th>1991</th>\n",
       "      <td>AL</td>\n",
       "      <td>Other Biomass</td>\n",
       "      <td>3.133e+04</td>\n",
       "      <td>3.529e-04</td>\n",
       "    </tr>\n",
       "    <tr>\n",
       "      <th>1991</th>\n",
       "      <td>AL</td>\n",
       "      <td>Other Gases</td>\n",
       "      <td>2.932e+05</td>\n",
       "      <td>3.302e-03</td>\n",
       "    </tr>\n",
       "    <tr>\n",
       "      <th>1991</th>\n",
       "      <td>AL</td>\n",
       "      <td>Petroleum</td>\n",
       "      <td>1.678e+05</td>\n",
       "      <td>1.890e-03</td>\n",
       "    </tr>\n",
       "    <tr>\n",
       "      <th>1991</th>\n",
       "      <td>AL</td>\n",
       "      <td>Wood and Wood Derived Fuels</td>\n",
       "      <td>2.217e+06</td>\n",
       "      <td>2.496e-02</td>\n",
       "    </tr>\n",
       "  </tbody>\n",
       "</table>\n",
       "</div>"
      ],
      "text/plain": [
       "     STATE                ENERGY SOURCE  GENERATION (Megawatthours)  \\\n",
       "YEAR                                                                  \n",
       "1991    AL                         Coal                   5.822e+07   \n",
       "1991    AL   Hydroelectric Conventional                   1.076e+07   \n",
       "1991    AL                  Natural Gas                   1.222e+06   \n",
       "1991    AL                      Nuclear                   1.587e+07   \n",
       "1991    AL                Other Biomass                   3.133e+04   \n",
       "1991    AL                  Other Gases                   2.932e+05   \n",
       "1991    AL                    Petroleum                   1.678e+05   \n",
       "1991    AL  Wood and Wood Derived Fuels                   2.217e+06   \n",
       "\n",
       "      GENERATION (Megawatthours)  \n",
       "YEAR                              \n",
       "1991                   6.558e-01  \n",
       "1991                   1.212e-01  \n",
       "1991                   1.377e-02  \n",
       "1991                   1.788e-01  \n",
       "1991                   3.529e-04  \n",
       "1991                   3.302e-03  \n",
       "1991                   1.890e-03  \n",
       "1991                   2.496e-02  "
      ]
     },
     "execution_count": 138,
     "metadata": {},
     "output_type": "execute_result"
    }
   ],
   "source": [
    "proportions_by_states[1][1]"
   ]
  },
  {
   "cell_type": "code",
   "execution_count": 139,
   "metadata": {},
   "outputs": [],
   "source": [
    "?format"
   ]
  },
  {
   "cell_type": "code",
   "execution_count": null,
   "metadata": {},
   "outputs": [],
   "source": []
  }
 ],
 "metadata": {
  "kernelspec": {
   "display_name": "Python 3",
   "language": "python",
   "name": "python3"
  },
  "language_info": {
   "codemirror_mode": {
    "name": "ipython",
    "version": 3
   },
   "file_extension": ".py",
   "mimetype": "text/x-python",
   "name": "python",
   "nbconvert_exporter": "python",
   "pygments_lexer": "ipython3",
   "version": "3.6.5"
  }
 },
 "nbformat": 4,
 "nbformat_minor": 2
}
